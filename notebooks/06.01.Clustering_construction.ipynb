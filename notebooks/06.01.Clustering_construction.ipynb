{
 "cells": [
  {
   "cell_type": "markdown",
   "id": "a90664cc-b6df-448a-8455-3012ee37c633",
   "metadata": {},
   "source": [
    "# Segmentación de Clientes mediante K-Means\n",
    "\n",
    "## Objetivo\n",
    "\n",
    "El objetivo de este análisis es identificar segmentos homogéneos de clientes a partir de sus comportamientos de navegación, compra y características sociodemográficas. Esta segmentación permitirá mejorar las estrategias de marketing, personalizar las recomendaciones y optimizar las campañas de retención y adquisición.\n",
    "\n",
    "## Dataset\n",
    "\n",
    "Partimos de un dataset limpio que consolida información transaccional, eventos de navegación y metadatos de producto. Las variables disponibles incluyen:\n",
    "\n",
    "- **Identificadores**: `customer_id`, `event_id`, `session_id`, `product_id`, `booking_id`\n",
    "- **Datos geográficos**: `home_location_lat`, `home_location_long`, `home_location`, `shipment_location_lat`, `shipment_location_long`\n",
    "- **Comportamiento temporal**: `first_join_date`, `event_time`, `transaction_time`, `shipment_date_limit`\n",
    "- **Atributos de navegación y compra**: `event_name`, `traffic_source`, `device_type`, `search_keywords`, `was_purchased`\n",
    "- **Información transaccional**: `item_price`, `product_quantity`, `total_amount`, `shipment_fee`, `promo_code`, `promo_amount`, `payment_method`, `payment_status`\n",
    "- **Características del cliente**: `customer_gender`, `gender`\n",
    "- **Metadatos del producto**: `mastercategory`, `subcategory`, `articletype`, `basecolour`, `season`, `year`, `usage`, `productdisplayname`\n",
    "\n",
    "## Enfoque\n",
    "\n",
    "El proceso de segmentación se compone de las siguientes etapas:\n",
    "\n",
    "1. **Selección de variables relevantes** para representar el comportamiento y valor de los clientes.\n",
    "2. **Agregación y transformación de datos** a nivel cliente (`customer_id`) para consolidar las métricas.\n",
    "3. **Preprocesamiento**, incluyendo normalización y codificación.\n",
    "4. **Determinación del número óptimo de clusters** mediante técnicas como el método del codo y el coeficiente de Silhouette.\n",
    "5. **Aplicación del algoritmo K-Means** para asignar cada cliente a un segmento.\n",
    "6. **Análisis e interpretación** de los segmentos resultantes mediante visualizaciones y estadísticas descriptivas.\n"
   ]
  },
  {
   "cell_type": "markdown",
   "id": "8a3c543e-b072-4dcf-bcbd-5c13969aed75",
   "metadata": {},
   "source": [
    "## Variables Seleccionadas para la Segmentación de Clientes\n",
    "\n",
    "A continuación se detallan las variables agregadas a nivel cliente (`customer_id`) que se utilizarán como base para aplicar el algoritmo K-Means.\n",
    "\n",
    "### Comportamiento de Compra\n",
    "- **`total_amount_sum`**: Importe total gastado por el cliente en sus compras.\n",
    "- **`product_quantity_sum`**: Número total de productos adquiridos.\n",
    "- **`num_purchases`**: Número de eventos donde se produjo una compra (`was_purchased = 1`).\n",
    "- **`avg_order_value`**: Valor medio de cada compra realizada.\n",
    "\n",
    "### Variables Temporales\n",
    "- **`recency_days`**: Número de días desde la última compra hasta la fecha de referencia.\n",
    "- **`first_purchase_days`**: Días desde la primera compra registrada (antigüedad como cliente).\n",
    "- **`average_time_transaction`**: Tiempo promedio que el cliente permanece en una sesión con transacción.\n",
    "\n",
    "### Interacción Digital\n",
    "- **`num_sessions`**: Total de sesiones únicas iniciadas por el cliente.\n",
    "- **`num_events`**: Número total de eventos (interacciones) registrados.\n",
    "- **`distinct_product_views`**: Número de productos diferentes visualizados.\n",
    "- **`num_searches`**: Número de búsquedas realizadas por el cliente (`search_keywords` no nulo).\n",
    "\n",
    "### Promociones y Métodos de Pago\n",
    "- **`promo_usage_rate`**: Proporción de compras en las que se aplicó una promoción.\n",
    "- **`avg_promo_discount`**: Descuento medio aplicado en las compras con promoción.\n",
    "- **`most_used_payment_method`**: Método de pago más frecuentemente utilizado.\n",
    "\n",
    "### Perfil del Cliente\n",
    "- **`customer_gender`**: Género del cliente.\n",
    "- **`birthdate`**:Fecha de nacimiento del cliente. La vamos a convertir en edad.\n",
    "- **`device_type_mode`**: Tipo de dispositivo más utilizado en las sesiones.\n",
    "- **`traffic_source_mode`**: Fuente de tráfico más común por la que accede el cliente.\n",
    "- **`home_location`**: Localización geográfica de residencia del cliente (puede codificarse o agruparse).\n",
    "- **`home_location_long`, `home_location_lat`**: coordenadas del domicilio del cliente.\n",
    "> **Nota**: Las variables categóricas deben ser codificadas (por ejemplo, con one-hot encoding), y las numéricas normalizadas antes de aplicar K-Means.\n"
   ]
  },
  {
   "cell_type": "code",
   "execution_count": 1,
   "id": "aaaacd86-bad2-4515-9c17-9e7c5ac26465",
   "metadata": {},
   "outputs": [],
   "source": [
    "import pandas as pd\n",
    "from sqlalchemy import create_engine,text\n",
    "import os\n",
    "from dotenv import load_dotenv\n",
    "import matplotlib.pyplot as plt\n",
    "import seaborn as sns\n",
    "from sklearn.metrics.pairwise import cosine_similarity\n",
    "from scipy.stats import shapiro\n",
    "from scipy.stats.mstats import winsorize\n",
    "from sklearn.preprocessing import StandardScaler\n",
    "import numpy as np\n",
    "from sklearn.cluster import KMeans\n",
    "from sklearn.metrics import silhouette_score\n",
    "import geopandas as gpd\n",
    "import contextily as cx"
   ]
  },
  {
   "cell_type": "code",
   "execution_count": 2,
   "id": "7d43fe14-4399-46e3-bd3b-66ee4e0e3c26",
   "metadata": {},
   "outputs": [],
   "source": [
    "# Cargar variables de entorno\n",
    "load_dotenv(override=True)\n",
    "\n",
    "# Configuración de conexión\n",
    "DB_HOST = os.getenv(\"DB_HOST\")\n",
    "DB_NAME = os.getenv(\"DB_NAME\")\n",
    "DB_USER = os.getenv(\"DB_USER\")\n",
    "DB_PASSWORD = os.getenv(\"DB_PASSWORD\")\n",
    "DB_PORT = os.getenv(\"DB_PORT\")\n",
    "\n",
    "# Crear el motor de conexión a PostgreSQL\n",
    "engine = create_engine(f\"postgresql://{DB_USER}:{DB_PASSWORD}@{DB_HOST}:{DB_PORT}/{DB_NAME}\")"
   ]
  },
  {
   "cell_type": "markdown",
   "id": "90f10e4b-68c9-451e-aacf-08b944301083",
   "metadata": {},
   "source": [
    "### **Tabla Global para la Segmentación de Clientes: customer_segmentation_features**\n",
    "\n",
    "Para llevar a cabo el proceso de **Segmentación de Clientes mediante K-Means**, se ha diseñado una tabla global llamada `customer_segmentation_features` que servirá como repositorio único para consolidar todas las variables seleccionadas.\n",
    "\n",
    "---\n",
    "\n",
    "### **Estructura de la Tabla Global**\n",
    "La tabla `customer_segmentation_features` está compuesta por un identificador único para cada cliente (`customer_id`) y un conjunto de columnas que representan distintos aspectos del comportamiento del cliente. Estas columnas se irán añadiendo de manera **incremental y optimizada**, asegurando que cada actualización sea eficiente y no genere bloqueos en la base de datos.\n",
    "\n",
    "---\n",
    "\n",
    "### **Proceso de Incrementación de Variables**\n",
    "El proceso para añadir cada variable a la tabla global sigue los siguientes pasos:\n",
    "\n",
    "**Validación y Creación de la Tabla:**  \n",
    "Si la tabla no existe, se crea con los campos necesarios. En un primer momento, solo se define el identificador (`customer_id`).  \n",
    "\n",
    "**Cálculo de la Variable:**  \n",
    "Se realiza un cálculo agregado sobre la tabla principal (`cleaned_base_table`) para obtener el valor correspondiente para cada cliente.  \n",
    "\n",
    "**Inserción o Actualización:**  \n",
    "- Si el cliente ya existe en la tabla, se actualiza su valor para esa variable.  \n",
    "- Si el cliente no existe, se inserta un nuevo registro con ese valor.  \n",
    "\n",
    "**Verificación de Consistencia:**  \n",
    "Después de cada incremento, se realiza una comprobación de datos para asegurar que se ha calculado correctamente.  \n",
    "\n",
    "---\n",
    "\n",
    "### **Variable 1: total_amount_sum**\n",
    "Esta variable representa el **importe total gastado** por el cliente en todas sus transacciones registradas. Nos permite entender el valor monetario total que un cliente aporta al negocio.\n",
    "\n",
    "---\n",
    "\n",
    "#### **Criterio de cálculo**:\n",
    "Para calcular este valor correctamente:\n",
    "- Se filtran únicamente las transacciones donde el producto fue efectivamente comprado (was_purchased = TRUE).\n",
    "- Se suman los valores de la columna total_amount directamente por cliente, sin necesidad de agrupar por sesión.\n",
    "- Posteriormente, se agrupa por `customer_id` para obtener el gasto total acumulado del cliente.\n",
    "\n"
   ]
  },
  {
   "cell_type": "code",
   "execution_count": 6,
   "id": "4653f5e2-7d4d-42c0-b0c8-aab3a222c4b7",
   "metadata": {},
   "outputs": [
    {
     "name": "stdout",
     "output_type": "stream",
     "text": [
      "Ejecutando creación de 'customer_segmentation_features'...\n",
      "✅ Tabla creada correctamente con todos los clientes.\n",
      "CPU times: total: 15.6 ms\n",
      "Wall time: 1min 51s\n"
     ]
    }
   ],
   "source": [
    "%%time\n",
    "# SQL para crear la tabla y calcular total_amount_sum\n",
    "sql = \"\"\"\n",
    "DROP TABLE IF EXISTS customer_segmentation_features;\n",
    "\n",
    "CREATE TABLE customer_segmentation_features AS\n",
    "SELECT \n",
    "    c.customer_id,\n",
    "    COALESCE(SUM(t.total_amount_final), 0) AS total_amount_sum\n",
    "FROM (\n",
    "    SELECT DISTINCT customer_id FROM cleaned_base_table\n",
    "    WHERE customer_id IS NOT NULL\n",
    ") c\n",
    "LEFT JOIN (\n",
    "    SELECT \n",
    "        customer_id, \n",
    "        SUM(total_amount_final) AS total_amount_final\n",
    "    FROM cleaned_base_table\n",
    "    WHERE was_purchased = TRUE AND customer_id IS NOT NULL\n",
    "    GROUP BY customer_id\n",
    ") t ON c.customer_id = t.customer_id\n",
    "GROUP BY c.customer_id;\n",
    "\"\"\"\n",
    "\n",
    "# Ejecutar el SQL en la base de datos\n",
    "with engine.connect() as connection:\n",
    "    print(\"Ejecutando creación de 'customer_segmentation_features'...\")\n",
    "    connection.execute(text(sql))\n",
    "    connection.commit()\n",
    "    print(\"✅ Tabla creada correctamente con todos los clientes.\")\n"
   ]
  },
  {
   "cell_type": "markdown",
   "id": "d888c409-51da-422e-bda9-67596935dcd7",
   "metadata": {},
   "source": [
    "### **Variable 2: product_quantity_sum**\n",
    "Esta variable representa el **número total de productos adquiridos** por el cliente en todas sus transacciones registradas. Nos permite entender el volumen de artículos que un cliente ha comprado a lo largo del tiempo.\n",
    "\n",
    "---\n",
    "\n",
    "#### **Criterio de cálculo**:\n",
    "Para calcular este valor correctamente:\n",
    "- Se filtran únicamente las transacciones donde el producto fue efectivamente comprado (`was_purchased = TRUE`).\n",
    "- Se suman los valores de la columna `product_quantity_winsorized` directamente por cliente, sin necesidad de agrupar por sesión.\n",
    "- El resultado es la suma total de artículos adquiridos por cada cliente.\n"
   ]
  },
  {
   "cell_type": "code",
   "execution_count": 7,
   "id": "b4d05da1-dbcf-4aca-8c62-c5e273eb1f33",
   "metadata": {},
   "outputs": [
    {
     "name": "stdout",
     "output_type": "stream",
     "text": [
      "Ejecutando actualización para 'product_quantity_sum'...\n",
      "✅ Columna 'product_quantity_sum' agregada correctamente.\n",
      "CPU times: total: 0 ns\n",
      "Wall time: 1min 8s\n"
     ]
    }
   ],
   "source": [
    "%%time\n",
    "# SQL para agregar la columna product_quantity_sum en la tabla global\n",
    "sql = \"\"\"\n",
    "ALTER TABLE customer_segmentation_features\n",
    "    ADD COLUMN product_quantity_sum FLOAT;\n",
    "\n",
    "UPDATE customer_segmentation_features cs\n",
    "SET product_quantity_sum = COALESCE(sub.total_quantity, 0)\n",
    "FROM (\n",
    "    SELECT \n",
    "        customer_id,\n",
    "        SUM(product_quantity_winsorized) AS total_quantity\n",
    "    FROM cleaned_base_table\n",
    "    WHERE was_purchased = TRUE AND customer_id IS NOT NULL\n",
    "    GROUP BY customer_id\n",
    ") sub\n",
    "WHERE cs.customer_id = sub.customer_id;\n",
    "\"\"\"\n",
    "\n",
    "# Ejecutar el SQL en la base de datos\n",
    "with engine.connect() as connection:\n",
    "    print(\"Ejecutando actualización para 'product_quantity_sum'...\")\n",
    "    connection.execute(text(sql))\n",
    "    connection.commit()\n",
    "    print(\"✅ Columna 'product_quantity_sum' agregada correctamente.\")\n"
   ]
  },
  {
   "cell_type": "markdown",
   "id": "0b4cb2b3-7882-42f3-ba89-eace45089633",
   "metadata": {},
   "source": [
    "### **Variable 3: num_purchases**\n",
    "Esta variable representa el **número total de compras realizadas** por el cliente. Nos permite identificar la frecuencia con la que un cliente adquiere productos en la plataforma.\n",
    "\n",
    "---\n",
    "\n",
    "#### **Criterio de cálculo**:\n",
    "Para calcular este valor correctamente:\n",
    "- Se contabilizan todas las sesiones (`session_id`) donde al menos un producto fue comprado (`was_purchased = TRUE`).\n",
    "- Se agrupa por `customer_id` para obtener el número total de sesiones de compra.\n",
    "- El valor final representa la cantidad de ocasiones en que el cliente ha realizado una compra efectiva.\n",
    "\n"
   ]
  },
  {
   "cell_type": "code",
   "execution_count": 8,
   "id": "95fd33f2-945e-4f65-9b2f-e13c0a68ebe5",
   "metadata": {},
   "outputs": [
    {
     "name": "stdout",
     "output_type": "stream",
     "text": [
      "Ejecutando actualización para 'num_purchases'...\n",
      "✅ Columna 'num_purchases' agregada correctamente.\n",
      "CPU times: total: 0 ns\n",
      "Wall time: 1min 4s\n"
     ]
    }
   ],
   "source": [
    "%%time\n",
    "# SQL para agregar la columna num_purchases en la tabla global\n",
    "sql = \"\"\"\n",
    "ALTER TABLE customer_segmentation_features\n",
    "    ADD COLUMN num_purchases INT;\n",
    "\n",
    "UPDATE customer_segmentation_features cs\n",
    "SET num_purchases = COALESCE(sub.total_purchases, 0)\n",
    "FROM (\n",
    "    SELECT \n",
    "        customer_id,\n",
    "        COUNT(DISTINCT session_id) AS total_purchases\n",
    "    FROM cleaned_base_table\n",
    "    WHERE was_purchased = TRUE AND customer_id IS NOT NULL\n",
    "    GROUP BY customer_id\n",
    ") sub\n",
    "WHERE cs.customer_id = sub.customer_id;\n",
    "\"\"\"\n",
    "\n",
    "# Ejecutar el SQL en la base de datos\n",
    "with engine.connect() as connection:\n",
    "    print(\"Ejecutando actualización para 'num_purchases'...\")\n",
    "    connection.execute(text(sql))\n",
    "    connection.commit()\n",
    "    print(\"✅ Columna 'num_purchases' agregada correctamente.\")"
   ]
  },
  {
   "cell_type": "markdown",
   "id": "fbf24d8c-49db-4cd8-8ef9-3f99fba23df3",
   "metadata": {},
   "source": [
    "### **Variable 4: avg_order_value**\n",
    "Esta variable representa el **valor promedio de cada compra realizada** por el cliente. Nos permite entender el ticket medio de los clientes en cada transacción.\n",
    "\n",
    "---\n",
    "\n",
    "#### **Criterio de cálculo**:\n",
    "Para calcular este valor correctamente:\n",
    "- Se toma el valor total gastado por el cliente (`total_amount_sum`).\n",
    "- Se divide por el número de compras realizadas (`num_purchases`).\n",
    "- En caso de que el número de compras sea 0, el valor se establece en 0 para evitar divisiones por cero.\n"
   ]
  },
  {
   "cell_type": "code",
   "execution_count": 9,
   "id": "69c32fd4-bd69-4496-be39-36454e81636e",
   "metadata": {},
   "outputs": [
    {
     "name": "stdout",
     "output_type": "stream",
     "text": [
      "🚀 Ejecutando actualización para 'avg_order_value'...\n",
      "✅ Columna 'avg_order_value' agregada correctamente.\n",
      "CPU times: total: 0 ns\n",
      "Wall time: 236 ms\n"
     ]
    }
   ],
   "source": [
    "%%time\n",
    "# SQL para agregar la columna avg_order_value en la tabla global\n",
    "sql = \"\"\"\n",
    "ALTER TABLE customer_segmentation_features\n",
    "    ADD COLUMN avg_order_value FLOAT;\n",
    "\n",
    "UPDATE customer_segmentation_features\n",
    "SET avg_order_value = \n",
    "    CASE \n",
    "        WHEN num_purchases > 0 THEN total_amount_sum / num_purchases \n",
    "        ELSE 0 \n",
    "    END;\n",
    "\"\"\"\n",
    "\n",
    "# Ejecutar el SQL en la base de datos\n",
    "with engine.connect() as connection:\n",
    "    print(\"🚀 Ejecutando actualización para 'avg_order_value'...\")\n",
    "    connection.execute(text(sql))\n",
    "    connection.commit()\n",
    "    print(\"✅ Columna 'avg_order_value' agregada correctamente.\")"
   ]
  },
  {
   "cell_type": "markdown",
   "id": "7e7f0b89-3016-4ee7-89fe-d4fa8e261bfe",
   "metadata": {},
   "source": [
    "### **Variable 5: recency_days**\n",
    "Esta variable representa el **número de días transcurridos desde la última compra registrada hasta la fecha actual**. Nos permite medir el tiempo de inactividad del cliente y evaluar su nivel de reciente actividad.\n",
    "\n",
    "---\n",
    "\n",
    "#### **Criterio de cálculo**:\n",
    "Para calcular este valor correctamente:\n",
    "- Se obtiene la fecha más reciente en la que el cliente realizó una transacción (`transaction_time`).\n",
    "- Se calcula la diferencia en días entre esa fecha y el día actual.\n",
    "- Si el cliente nunca ha comprado, se asigna un valor nulo (o un valor muy alto que indique inactividad total).\n",
    "\n"
   ]
  },
  {
   "cell_type": "code",
   "execution_count": 10,
   "id": "1a6efd81-9601-4ccd-8455-2113844c0130",
   "metadata": {},
   "outputs": [
    {
     "name": "stdout",
     "output_type": "stream",
     "text": [
      "Ejecutando actualización para 'recency_days'...\n",
      "✅ Columna 'recency_days' agregada correctamente.\n",
      "CPU times: total: 0 ns\n",
      "Wall time: 1min 3s\n"
     ]
    }
   ],
   "source": [
    "%%time\n",
    "# SQL para agregar la columna recency_days en la tabla global\n",
    "sql = \"\"\"\n",
    "ALTER TABLE customer_segmentation_features\n",
    "    ADD COLUMN recency_days INT;\n",
    "\n",
    "UPDATE customer_segmentation_features cs\n",
    "SET recency_days = COALESCE(sub.days_since_last_purchase, 9999)\n",
    "FROM (\n",
    "    SELECT \n",
    "        customer_id,\n",
    "        DATE_PART('day', CURRENT_DATE - MAX(transaction_time)) AS days_since_last_purchase\n",
    "    FROM cleaned_base_table\n",
    "    WHERE customer_id IS NOT NULL AND was_purchased = TRUE\n",
    "    GROUP BY customer_id\n",
    ") sub\n",
    "WHERE cs.customer_id = sub.customer_id;\n",
    "\"\"\"\n",
    "\n",
    "# Ejecutar el SQL en la base de datos\n",
    "with engine.connect() as connection:\n",
    "    print(\"Ejecutando actualización para 'recency_days'...\")\n",
    "    connection.execute(text(sql))\n",
    "    connection.commit()\n",
    "    print(\"✅ Columna 'recency_days' agregada correctamente.\")\n"
   ]
  },
  {
   "cell_type": "markdown",
   "id": "7145dbb8-a86c-430d-a777-c01878214afb",
   "metadata": {},
   "source": [
    "### **Variable 6: first_purchase_days**\n",
    "Esta variable representa el **número de días transcurridos desde el primer registro del cliente hasta la fecha actual**. Nos permite identificar la antigüedad del cliente en la plataforma.\n",
    "\n",
    "---\n",
    "\n",
    "#### **Criterio de cálculo**:\n",
    "Para calcular este valor correctamente:\n",
    "- Se obtiene la fecha en la que el cliente realizó su primer registro (`first_join_date`).\n",
    "- Se calcula la diferencia en días entre esa fecha y el día actual.\n",
    "- En caso de que el cliente no tenga una fecha de registro válida, se asigna un valor `NULL`.\n",
    "\n"
   ]
  },
  {
   "cell_type": "code",
   "execution_count": 11,
   "id": "159c3908-9385-4f80-8c34-32aba356d151",
   "metadata": {},
   "outputs": [
    {
     "name": "stdout",
     "output_type": "stream",
     "text": [
      "🚀 Ejecutando actualización para 'first_purchase_days'...\n",
      "✅ Columna 'first_purchase_days' agregada correctamente.\n",
      "CPU times: total: 15.6 ms\n",
      "Wall time: 1min 5s\n"
     ]
    }
   ],
   "source": [
    "%%time\n",
    "# SQL para agregar la columna first_purchase_days en la tabla global\n",
    "sql = \"\"\"\n",
    "ALTER TABLE customer_segmentation_features\n",
    "    ADD COLUMN first_purchase_days INT;\n",
    "\n",
    "UPDATE customer_segmentation_features cs\n",
    "SET first_purchase_days = sub.days_since_first_join\n",
    "FROM (\n",
    "    SELECT \n",
    "        customer_id,\n",
    "        DATE_PART('day', CURRENT_DATE::TIMESTAMP - first_join_date::TIMESTAMP) AS days_since_first_join\n",
    "    FROM cleaned_base_table\n",
    "    WHERE customer_id IS NOT NULL AND first_join_date IS NOT NULL\n",
    "    GROUP BY customer_id, first_join_date\n",
    ") sub\n",
    "WHERE cs.customer_id = sub.customer_id;\n",
    "\"\"\"\n",
    "\n",
    "# Ejecutar el SQL en la base de datos\n",
    "with engine.connect() as connection:\n",
    "    print(\"🚀 Ejecutando actualización para 'first_purchase_days'...\")\n",
    "    connection.execute(text(sql))\n",
    "    connection.commit()\n",
    "    print(\"✅ Columna 'first_purchase_days' agregada correctamente.\")\n"
   ]
  },
  {
   "cell_type": "markdown",
   "id": "350b8fb7-4f12-47df-850a-c71f5c0f0c89",
   "metadata": {},
   "source": [
    "### **Variable 7: average_time_transaction**\n",
    "Esta variable representa el **tiempo promedio que el cliente permanece en una sesión en la que se produce una transacción**. Nos permite entender el nivel de compromiso del usuario durante el proceso de compra.\n",
    "\n",
    "---\n",
    "\n",
    "#### **Criterio de cálculo**:\n",
    "Para calcular este valor correctamente:\n",
    "- Se filtran las sesiones.\n",
    "- Se calcula la diferencia de tiempo entre el primer evento y el último evento dentro de esa sesión.\n",
    "- Posteriormente, se obtiene el promedio de tiempo para cada cliente.\n",
    "- El valor se expresa en minutos.\n",
    "\n"
   ]
  },
  {
   "cell_type": "code",
   "execution_count": 12,
   "id": "7e092996-6562-48b0-abd8-050cb63990ef",
   "metadata": {},
   "outputs": [
    {
     "name": "stdout",
     "output_type": "stream",
     "text": [
      "Ejecutando actualización para 'average_time_transaction'...\n",
      "✅ Columna 'average_time_transaction' agregada correctamente.\n",
      "CPU times: total: 0 ns\n",
      "Wall time: 1min 9s\n"
     ]
    }
   ],
   "source": [
    "%%time\n",
    "# SQL para agregar la columna average_time_transaction en la tabla global\n",
    "sql = \"\"\"\n",
    "ALTER TABLE customer_segmentation_features\n",
    "    ADD COLUMN average_time_transaction FLOAT;\n",
    "\n",
    "UPDATE customer_segmentation_features cs\n",
    "SET average_time_transaction = COALESCE(sub.avg_session_time, 0)\n",
    "FROM (\n",
    "    SELECT \n",
    "        customer_id,\n",
    "        AVG(session_duration) AS avg_session_time\n",
    "    FROM (\n",
    "        SELECT \n",
    "            customer_id,\n",
    "            EXTRACT(EPOCH FROM (MAX(event_time) - MIN(event_time))) / 60.0 AS session_duration\n",
    "        FROM cleaned_base_table\n",
    "        WHERE customer_id IS NOT NULL \n",
    "    GROUP BY customer_id, session_id\n",
    "    ) sessions\n",
    "    GROUP BY customer_id\n",
    ") sub\n",
    "WHERE cs.customer_id = sub.customer_id;\n",
    "\"\"\"\n",
    "\n",
    "# Ejecutar el SQL en la base de datos\n",
    "with engine.connect() as connection:\n",
    "    print(\"Ejecutando actualización para 'average_time_transaction'...\")\n",
    "    connection.execute(text(sql))\n",
    "    connection.commit()\n",
    "    print(\"✅ Columna 'average_time_transaction' agregada correctamente.\")\n"
   ]
  },
  {
   "cell_type": "markdown",
   "id": "be911327-4b45-4e94-830a-76c9dc98c547",
   "metadata": {},
   "source": [
    "### **Variable 8: num_sessions**\n",
    "Esta variable representa el **número total de sesiones únicas** iniciadas por el cliente en la plataforma. Nos permite identificar la frecuencia con la que un cliente navega por el sitio web o aplicación.\n",
    "\n",
    "---\n",
    "\n",
    "#### **Criterio de cálculo**:\n",
    "Para calcular este valor correctamente:\n",
    "- Se cuentan todas las sesiones únicas (`session_id`) asociadas a cada cliente.\n",
    "- No se filtra por `was_purchased`, ya que una sesión no necesariamente tiene que terminar en una compra para ser registrada.\n",
    "- El resultado se guarda a nivel de cliente.\n",
    "\n"
   ]
  },
  {
   "cell_type": "code",
   "execution_count": 13,
   "id": "c14abde7-04f9-48e0-bbaf-857613f8a186",
   "metadata": {},
   "outputs": [
    {
     "name": "stdout",
     "output_type": "stream",
     "text": [
      "Ejecutando actualización para 'num_sessions'...\n",
      "✅ Columna 'num_sessions' agregada correctamente.\n",
      "CPU times: total: 0 ns\n",
      "Wall time: 1min 10s\n"
     ]
    }
   ],
   "source": [
    "%%time\n",
    "# SQL para agregar la columna num_sessions en la tabla global\n",
    "sql = \"\"\"\n",
    "ALTER TABLE customer_segmentation_features\n",
    "    ADD COLUMN num_sessions INT;\n",
    "\n",
    "UPDATE customer_segmentation_features cs\n",
    "SET num_sessions = COALESCE(sub.total_sessions, 0)\n",
    "FROM (\n",
    "    SELECT \n",
    "        customer_id,\n",
    "        COUNT(DISTINCT session_id) AS total_sessions\n",
    "    FROM cleaned_base_table\n",
    "    WHERE customer_id IS NOT NULL\n",
    "    GROUP BY customer_id\n",
    ") sub\n",
    "WHERE cs.customer_id = sub.customer_id;\n",
    "\"\"\"\n",
    "\n",
    "# Ejecutar el SQL en la base de datos\n",
    "with engine.connect() as connection:\n",
    "    print(\"Ejecutando actualización para 'num_sessions'...\")\n",
    "    connection.execute(text(sql))\n",
    "    connection.commit()\n",
    "    print(\"✅ Columna 'num_sessions' agregada correctamente.\")\n"
   ]
  },
  {
   "cell_type": "markdown",
   "id": "4f1f575f-5159-4a0a-8bea-9c7fddf4c8b7",
   "metadata": {},
   "source": [
    "### **Variable 9: num_events**\n",
    "Esta variable representa el **número total de eventos registrados** por el cliente en la plataforma. Un evento puede ser una visualización de producto, una búsqueda, un clic, un pago, entre otros. Nos permite entender el nivel de interacción y actividad del usuario.\n",
    "\n",
    "---\n",
    "\n",
    "#### **Criterio de cálculo**:\n",
    "Para calcular este valor correctamente:\n",
    "- Se cuentan todos los eventos (`event_id`) asociados al cliente.\n",
    "- No se filtra por tipo de evento, ya que todos los eventos representan una interacción.\n",
    "- El resultado se guarda a nivel de cliente en la tabla global de segmentación.\n",
    "\n"
   ]
  },
  {
   "cell_type": "code",
   "execution_count": 14,
   "id": "73de67a8-0456-47ad-9dfc-85fb0256ef4f",
   "metadata": {},
   "outputs": [
    {
     "name": "stdout",
     "output_type": "stream",
     "text": [
      "Ejecutando actualización para 'num_events'...\n",
      "✅ Columna 'num_events' agregada correctamente.\n",
      "CPU times: total: 0 ns\n",
      "Wall time: 1min 8s\n"
     ]
    }
   ],
   "source": [
    "%%time\n",
    "# SQL para agregar la columna num_events en la tabla global\n",
    "sql = \"\"\"\n",
    "ALTER TABLE customer_segmentation_features\n",
    "    ADD COLUMN num_events INT;\n",
    "\n",
    "UPDATE customer_segmentation_features cs\n",
    "SET num_events = COALESCE(sub.total_events, 0)\n",
    "FROM (\n",
    "    SELECT \n",
    "        customer_id,\n",
    "        COUNT(event_id) AS total_events\n",
    "    FROM cleaned_base_table\n",
    "    WHERE customer_id IS NOT NULL\n",
    "    GROUP BY customer_id\n",
    ") sub\n",
    "WHERE cs.customer_id = sub.customer_id;\n",
    "\"\"\"\n",
    "\n",
    "# Ejecutar el SQL en la base de datos\n",
    "with engine.connect() as connection:\n",
    "    print(\"Ejecutando actualización para 'num_events'...\")\n",
    "    connection.execute(text(sql))\n",
    "    connection.commit()\n",
    "    print(\"✅ Columna 'num_events' agregada correctamente.\")\n"
   ]
  },
  {
   "cell_type": "markdown",
   "id": "809006fa-9272-4e9e-b091-d935411209c1",
   "metadata": {},
   "source": [
    "### **Variable 10: distinct_product_views**\n",
    "Esta variable representa el **número de productos únicos visualizados** por el cliente en la plataforma. Nos permite entender la amplitud de exploración del cliente en cuanto a productos y categorías.\n",
    "\n",
    "---\n",
    "\n",
    "#### **Criterio de cálculo**:\n",
    "Para calcular este valor correctamente:\n",
    "- Se cuentan los productos únicos (`product_id`) que el cliente ha visualizado en sus sesiones.\n",
    "- No se filtra por `was_purchased`, ya que una visualización no siempre termina en una compra.\n",
    "- El valor se guarda a nivel de cliente en la tabla global de segmentación.\n",
    "\n"
   ]
  },
  {
   "cell_type": "code",
   "execution_count": 15,
   "id": "0eac0b06-1d64-4e21-b248-3ca1dc707249",
   "metadata": {},
   "outputs": [
    {
     "name": "stdout",
     "output_type": "stream",
     "text": [
      "Ejecutando actualización para 'distinct_product_views'...\n",
      "✅ Columna 'distinct_product_views' agregada correctamente.\n",
      "CPU times: total: 0 ns\n",
      "Wall time: 1min 8s\n"
     ]
    }
   ],
   "source": [
    "%%time\n",
    "# SQL para agregar la columna distinct_product_views en la tabla global\n",
    "sql = \"\"\"\n",
    "ALTER TABLE customer_segmentation_features\n",
    "    ADD COLUMN distinct_product_views INT;\n",
    "\n",
    "UPDATE customer_segmentation_features cs\n",
    "SET distinct_product_views = COALESCE(sub.total_distinct_products, 0)\n",
    "FROM (\n",
    "    SELECT \n",
    "        customer_id,\n",
    "        COUNT(DISTINCT product_id) AS total_distinct_products\n",
    "    FROM cleaned_base_table\n",
    "    WHERE customer_id IS NOT NULL AND product_id IS NOT NULL\n",
    "    GROUP BY customer_id\n",
    ") sub\n",
    "WHERE cs.customer_id = sub.customer_id;\n",
    "\"\"\"\n",
    "\n",
    "# Ejecutar el SQL en la base de datos\n",
    "with engine.connect() as connection:\n",
    "    print(\"Ejecutando actualización para 'distinct_product_views'...\")\n",
    "    connection.execute(text(sql))\n",
    "    connection.commit()\n",
    "    print(\"✅ Columna 'distinct_product_views' agregada correctamente.\")\n"
   ]
  },
  {
   "cell_type": "markdown",
   "id": "dbe7222e-cd9c-43a6-bc8d-5cfb54ef9166",
   "metadata": {},
   "source": [
    "### **Variable 11: num_searches**\n",
    "Esta variable representa el **número total de búsquedas realizadas** por el cliente en la plataforma. Nos permite entender el interés del usuario en explorar productos o categorías específicas.\n",
    "\n",
    "---\n",
    "\n",
    "#### **Criterio de cálculo**:\n",
    "Para calcular este valor correctamente:\n",
    "- Se cuentan las interacciones donde el campo `search_keywords` no es nulo.\n",
    "- Cada búsqueda registrada se contabiliza para el cliente correspondiente.\n",
    "- El valor se guarda a nivel de cliente en la tabla global de segmentación.\n"
   ]
  },
  {
   "cell_type": "code",
   "execution_count": 16,
   "id": "39a8d27e-7aed-4323-bf0f-798a4d3c9d60",
   "metadata": {},
   "outputs": [
    {
     "name": "stdout",
     "output_type": "stream",
     "text": [
      "Ejecutando actualización para 'num_searches'...\n",
      "✅ Columna 'num_searches' agregada correctamente.\n",
      "CPU times: total: 0 ns\n",
      "Wall time: 1min 3s\n"
     ]
    }
   ],
   "source": [
    "%%time\n",
    "# SQL para agregar la columna num_searches en la tabla global\n",
    "sql = \"\"\"\n",
    "ALTER TABLE customer_segmentation_features\n",
    "    ADD COLUMN num_searches INT;\n",
    "\n",
    "UPDATE customer_segmentation_features cs\n",
    "SET num_searches = COALESCE(sub.total_searches, 0)\n",
    "FROM (\n",
    "    SELECT \n",
    "        customer_id,\n",
    "        COUNT(*) AS total_searches\n",
    "    FROM cleaned_base_table\n",
    "    WHERE customer_id IS NOT NULL AND search_keywords IS NOT NULL\n",
    "    GROUP BY customer_id\n",
    ") sub\n",
    "WHERE cs.customer_id = sub.customer_id;\n",
    "\"\"\"\n",
    "\n",
    "# Ejecutar el SQL en la base de datos\n",
    "with engine.connect() as connection:\n",
    "    print(\"Ejecutando actualización para 'num_searches'...\")\n",
    "    connection.execute(text(sql))\n",
    "    connection.commit()\n",
    "    print(\"✅ Columna 'num_searches' agregada correctamente.\")\n"
   ]
  },
  {
   "cell_type": "markdown",
   "id": "71532faf-c73f-4d4d-b50b-daf7119fd25e",
   "metadata": {},
   "source": [
    "### **Variable 12: promo_usage_rate**\n",
    "Esta variable representa la **proporción de compras en las que se utilizó un código promocional**. Nos permite identificar qué tan frecuente es el uso de promociones en las transacciones del cliente.\n",
    "\n",
    "---\n",
    "\n",
    "#### **Criterio de cálculo**:\n",
    "Para calcular este valor correctamente:\n",
    "- Se cuentan todas las compras realizadas (`was_purchased = TRUE`).\n",
    "- De esas compras, se filtran aquellas en las que se aplicó un código promocional (`has_promo = TRUE`).\n",
    "- La métrica se calcula como el porcentaje de artículos con promoción respecto al total de artículos.\n",
    "- Si el cliente no tiene compras, el valor se establece en `0`.\n"
   ]
  },
  {
   "cell_type": "code",
   "execution_count": 23,
   "id": "0edfbcf7-770b-4213-905b-29f51450f160",
   "metadata": {},
   "outputs": [
    {
     "name": "stdout",
     "output_type": "stream",
     "text": [
      "🚀 Ejecutando actualización para 'promo_usage_rate'...\n",
      "✅ Columna 'promo_usage_rate' agregada correctamente.\n",
      "CPU times: total: 0 ns\n",
      "Wall time: 1min 10s\n"
     ]
    }
   ],
   "source": [
    "%%time\n",
    "# SQL para agregar la columna promo_usage_rate en la tabla global\n",
    "sql = \"\"\"\n",
    "ALTER TABLE customer_segmentation_features\n",
    "    ADD COLUMN promo_usage_rate FLOAT;\n",
    "\n",
    "UPDATE customer_segmentation_features cs\n",
    "SET promo_usage_rate = COALESCE(sub.promo_quantity_sum, 0) / NULLIF(cs.product_quantity_sum, 0)\n",
    "FROM (\n",
    "    SELECT \n",
    "        customer_id,\n",
    "        SUM(product_quantity) FILTER (WHERE has_promo = TRUE AND was_purchased = TRUE) AS promo_quantity_sum\n",
    "    FROM cleaned_base_table\n",
    "    WHERE customer_id IS NOT NULL\n",
    "    GROUP BY customer_id\n",
    ") sub\n",
    "WHERE cs.customer_id = sub.customer_id;\n",
    "\"\"\"\n",
    "\n",
    "# Ejecutar el SQL en la base de datos\n",
    "with engine.connect() as connection:\n",
    "    print(\"🚀 Ejecutando actualización para 'promo_usage_rate'...\")\n",
    "    connection.execute(text(sql))\n",
    "    connection.commit()\n",
    "    print(\"✅ Columna 'promo_usage_rate' agregada correctamente.\")\n"
   ]
  },
  {
   "cell_type": "markdown",
   "id": "3e6b01c0-b340-4a72-a03f-67fa9cc9b097",
   "metadata": {},
   "source": [
    "### **Variable 13: avg_promo_discount**\n",
    "Esta variable representa el **descuento medio aplicado** en las compras en las que se utilizó un código promocional. Nos permite entender el nivel de descuento promedio que los clientes aprovechan en sus transacciones.\n",
    "\n",
    "---\n",
    "\n",
    "#### **Criterio de cálculo**:\n",
    "Para calcular este valor correctamente:\n",
    "- Se filtran únicamente las compras en las que se aplicó un código promocional (`transaction_promo_amount_winsorized > 0`).\n",
    "- Se calcula el promedio de esos descuentos para cada cliente.\n",
    "- Si el cliente no ha utilizado promociones, el valor se establece en `0`.\n"
   ]
  },
  {
   "cell_type": "code",
   "execution_count": 24,
   "id": "a9cf7b06-a24b-4b51-ad04-863385a30561",
   "metadata": {},
   "outputs": [
    {
     "name": "stdout",
     "output_type": "stream",
     "text": [
      "Ejecutando actualización para 'avg_promo_discount'...\n",
      "✅ Columna 'avg_promo_discount' agregada correctamente.\n",
      "CPU times: total: 0 ns\n",
      "Wall time: 1min 5s\n"
     ]
    }
   ],
   "source": [
    "%%time\n",
    "# SQL para agregar la columna avg_promo_discount en la tabla global\n",
    "sql = \"\"\"\n",
    "ALTER TABLE customer_segmentation_features\n",
    "    ADD COLUMN avg_promo_discount FLOAT;\n",
    "\n",
    "UPDATE customer_segmentation_features cs\n",
    "SET avg_promo_discount = COALESCE(sub.average_discount, 0)\n",
    "FROM (\n",
    "    SELECT \n",
    "        customer_id,\n",
    "        AVG(transaction_promo_amount_winsorized) AS average_discount\n",
    "    FROM cleaned_base_table\n",
    "    WHERE customer_id IS NOT NULL AND transaction_promo_amount_winsorized > 0 AND has_promo = TRUE\n",
    "    GROUP BY customer_id\n",
    ") sub\n",
    "WHERE cs.customer_id = sub.customer_id;\n",
    "\"\"\"\n",
    "\n",
    "# Ejecutar el SQL en la base de datos\n",
    "with engine.connect() as connection:\n",
    "    print(\"Ejecutando actualización para 'avg_promo_discount'...\")\n",
    "    connection.execute(text(sql))\n",
    "    connection.commit()\n",
    "    print(\"✅ Columna 'avg_promo_discount' agregada correctamente.\")\n"
   ]
  },
  {
   "cell_type": "markdown",
   "id": "5559cbcc-9c21-4441-995f-c41a71328da2",
   "metadata": {},
   "source": [
    "### **Variable 14: most_used_payment_method**\n",
    "Esta variable representa el **método de pago más frecuentemente utilizado** por el cliente en sus transacciones. Nos permite identificar las preferencias del usuario al momento de realizar una compra.\n",
    "\n",
    "---\n",
    "\n",
    "#### **Criterio de cálculo**:\n",
    "Para calcular este valor correctamente:\n",
    "- Se contabiliza la frecuencia de cada método de pago por cliente.\n",
    "- Se selecciona el método de pago con mayor número de transacciones.\n",
    "- Si el cliente no ha realizado compras, el valor se deja en `NULL`.\n"
   ]
  },
  {
   "cell_type": "code",
   "execution_count": 25,
   "id": "3673f510-f4eb-4c99-9454-ad8faa6113fc",
   "metadata": {},
   "outputs": [
    {
     "name": "stdout",
     "output_type": "stream",
     "text": [
      "Ejecutando actualización para 'most_used_payment_method'...\n",
      "✅ Columna 'most_used_payment_method' agregada correctamente.\n",
      "CPU times: total: 0 ns\n",
      "Wall time: 1min 6s\n"
     ]
    }
   ],
   "source": [
    "%%time\n",
    "# SQL para agregar la columna most_used_payment_method en la tabla global\n",
    "sql = \"\"\"\n",
    "ALTER TABLE customer_segmentation_features\n",
    "    ADD COLUMN most_used_payment_method VARCHAR;\n",
    "\n",
    "UPDATE customer_segmentation_features cs\n",
    "SET most_used_payment_method = sub.payment_method\n",
    "FROM (\n",
    "    SELECT DISTINCT ON (customer_id)\n",
    "        customer_id,\n",
    "        payment_method\n",
    "    FROM (\n",
    "        SELECT \n",
    "            customer_id,\n",
    "            payment_method,\n",
    "            COUNT(*) AS usage_count\n",
    "        FROM cleaned_base_table\n",
    "        WHERE customer_id IS NOT NULL AND payment_method IS NOT NULL\n",
    "        GROUP BY customer_id, payment_method\n",
    "        ORDER BY customer_id, usage_count DESC\n",
    "    ) sub\n",
    ") sub\n",
    "WHERE cs.customer_id = sub.customer_id;\n",
    "\"\"\"\n",
    "\n",
    "# Ejecutar el SQL en la base de datos\n",
    "with engine.connect() as connection:\n",
    "    print(\"Ejecutando actualización para 'most_used_payment_method'...\")\n",
    "    connection.execute(text(sql))\n",
    "    connection.commit()\n",
    "    print(\"✅ Columna 'most_used_payment_method' agregada correctamente.\")\n"
   ]
  },
  {
   "cell_type": "markdown",
   "id": "41c49f28-0481-4809-b97c-740708cfd910",
   "metadata": {},
   "source": [
    "### **Variable 15: device_type_mode**\n",
    "Esta variable representa el **tipo de dispositivo más utilizado** por el cliente en sus interacciones con la plataforma. Nos permite entender si el cliente prefiere navegar y comprar desde un ordenador, un móvil o una tablet.\n",
    "\n",
    "---\n",
    "\n",
    "#### **Criterio de cálculo**:\n",
    "Para calcular este valor correctamente:\n",
    "- Se contabiliza la frecuencia de uso de cada tipo de dispositivo (`device_type`) por cliente.\n",
    "- Se selecciona el dispositivo con mayor número de interacciones.\n",
    "- Si el cliente no tiene interacciones registradas, el valor se deja en `NULL`.\n"
   ]
  },
  {
   "cell_type": "code",
   "execution_count": 26,
   "id": "f23cc9ad-cae5-492b-8e5d-56973fb0e1fb",
   "metadata": {},
   "outputs": [
    {
     "name": "stdout",
     "output_type": "stream",
     "text": [
      "Ejecutando actualización para 'device_type_mode'...\n",
      "✅ Columna 'device_type_mode' agregada correctamente.\n",
      "CPU times: total: 0 ns\n",
      "Wall time: 1min 6s\n"
     ]
    }
   ],
   "source": [
    "%%time\n",
    "# SQL para agregar la columna device_type_mode en la tabla global\n",
    "sql = \"\"\"\n",
    "ALTER TABLE customer_segmentation_features\n",
    "    ADD COLUMN device_type_mode VARCHAR;\n",
    "\n",
    "UPDATE customer_segmentation_features cs\n",
    "SET device_type_mode = sub.device_type\n",
    "FROM (\n",
    "    SELECT DISTINCT ON (customer_id)\n",
    "        customer_id,\n",
    "        device_type\n",
    "    FROM (\n",
    "        SELECT \n",
    "            customer_id,\n",
    "            device_type,\n",
    "            COUNT(*) AS usage_count\n",
    "        FROM cleaned_base_table\n",
    "        WHERE customer_id IS NOT NULL AND device_type IS NOT NULL\n",
    "        GROUP BY customer_id, device_type\n",
    "        ORDER BY customer_id, usage_count DESC\n",
    "    ) sub\n",
    ") sub\n",
    "WHERE cs.customer_id = sub.customer_id;\n",
    "\"\"\"\n",
    "\n",
    "# Ejecutar el SQL en la base de datos\n",
    "with engine.connect() as connection:\n",
    "    print(\"Ejecutando actualización para 'device_type_mode'...\")\n",
    "    connection.execute(text(sql))\n",
    "    connection.commit()\n",
    "    print(\"✅ Columna 'device_type_mode' agregada correctamente.\")\n"
   ]
  },
  {
   "cell_type": "markdown",
   "id": "d4fa17b9-43bc-4614-ac11-e1ec559d8f12",
   "metadata": {},
   "source": [
    "### **Variable 16: traffic_source_mode**\n",
    "Esta variable representa la **fuente de tráfico más utilizada** por el cliente para acceder a la plataforma. Nos permite identificar si el cliente llega a través de campañas publicitarias, tráfico directo, motores de búsqueda, redes sociales, entre otros.\n",
    "\n",
    "---\n",
    "\n",
    "#### **Criterio de cálculo**:\n",
    "Para calcular este valor correctamente:\n",
    "- Se contabiliza la frecuencia de cada fuente de tráfico (`traffic_source`) por cliente.\n",
    "- Se selecciona la fuente con mayor número de accesos.\n",
    "- Si el cliente no tiene accesos registrados, el valor se deja en `NULL`.\n"
   ]
  },
  {
   "cell_type": "code",
   "execution_count": 27,
   "id": "6007866b-ac07-42f6-846e-d8771749de1d",
   "metadata": {},
   "outputs": [
    {
     "name": "stdout",
     "output_type": "stream",
     "text": [
      "Ejecutando actualización para 'traffic_source_mode'...\n",
      "✅ Columna 'traffic_source_mode' agregada correctamente.\n",
      "CPU times: total: 15.6 ms\n",
      "Wall time: 1min 6s\n"
     ]
    }
   ],
   "source": [
    "%%time\n",
    "# SQL para agregar la columna traffic_source_mode en la tabla global\n",
    "sql = \"\"\"\n",
    "ALTER TABLE customer_segmentation_features\n",
    "    ADD COLUMN traffic_source_mode VARCHAR;\n",
    "\n",
    "UPDATE customer_segmentation_features cs\n",
    "SET traffic_source_mode = sub.traffic_source\n",
    "FROM (\n",
    "    SELECT DISTINCT ON (customer_id)\n",
    "        customer_id,\n",
    "        traffic_source\n",
    "    FROM (\n",
    "        SELECT \n",
    "            customer_id,\n",
    "            traffic_source,\n",
    "            COUNT(*) AS usage_count\n",
    "        FROM cleaned_base_table\n",
    "        WHERE customer_id IS NOT NULL AND traffic_source IS NOT NULL\n",
    "        GROUP BY customer_id, traffic_source\n",
    "        ORDER BY customer_id, usage_count DESC\n",
    "    ) sub\n",
    ") sub\n",
    "WHERE cs.customer_id = sub.customer_id;\n",
    "\"\"\"\n",
    "\n",
    "# Ejecutar el SQL en la base de datos\n",
    "with engine.connect() as connection:\n",
    "    print(\"Ejecutando actualización para 'traffic_source_mode'...\")\n",
    "    connection.execute(text(sql))\n",
    "    connection.commit()\n",
    "    print(\"✅ Columna 'traffic_source_mode' agregada correctamente.\")\n"
   ]
  },
  {
   "cell_type": "markdown",
   "id": "cc13c80b-a4ee-4b4e-96ce-593fe748dae8",
   "metadata": {},
   "source": [
    "### **Variable 17: home_location**\n",
    "Esta variable representa la **localización geográfica de residencia** del cliente. Nos permite entender la distribución geográfica de la base de clientes y facilita los análisis por regiones.\n",
    "\n",
    "---\n",
    "\n",
    "#### **Criterio de cálculo**:\n",
    "Para calcular este valor correctamente:\n",
    "- Se selecciona el valor registrado en el campo `home_location` para cada cliente.\n",
    "- El valor se actualiza en la tabla de segmentación.\n",
    "- Si el cliente no tiene un valor de localización registrado, se deja en `NULL`.\n"
   ]
  },
  {
   "cell_type": "code",
   "execution_count": 28,
   "id": "63b661f2-8cc3-496f-85df-e09bb99c9b81",
   "metadata": {},
   "outputs": [
    {
     "name": "stdout",
     "output_type": "stream",
     "text": [
      "Ejecutando actualización para 'home_location'...\n",
      "✅ Columna 'home_location' agregada correctamente.\n",
      "CPU times: total: 0 ns\n",
      "Wall time: 1min 9s\n"
     ]
    }
   ],
   "source": [
    "%%time\n",
    "# SQL para agregar la columna home_location en la tabla global\n",
    "sql = \"\"\"\n",
    "ALTER TABLE customer_segmentation_features\n",
    "    ADD COLUMN home_location VARCHAR;\n",
    "\n",
    "UPDATE customer_segmentation_features cs\n",
    "SET home_location = sub.home_location\n",
    "FROM (\n",
    "    SELECT DISTINCT ON (customer_id)\n",
    "        customer_id,\n",
    "        home_location\n",
    "    FROM cleaned_base_table\n",
    "    WHERE customer_id IS NOT NULL AND home_location IS NOT NULL\n",
    "    ORDER BY customer_id\n",
    ") sub\n",
    "WHERE cs.customer_id = sub.customer_id;\n",
    "\"\"\"\n",
    "\n",
    "# Ejecutar el SQL en la base de datos\n",
    "with engine.connect() as connection:\n",
    "    print(\"Ejecutando actualización para 'home_location'...\")\n",
    "    connection.execute(text(sql))\n",
    "    connection.commit()\n",
    "    print(\"✅ Columna 'home_location' agregada correctamente.\")\n"
   ]
  },
  {
   "cell_type": "markdown",
   "id": "f4807179-1712-46c8-8760-dfb4ad49201b",
   "metadata": {},
   "source": [
    "### **Variable 18: home_location_lat** y **Variable 19: home_location_long**\n",
    "Estas variables representan las **coordenadas geográficas de latitud y longitud** del domicilio del cliente. Nos permiten realizar análisis geoespaciales y segmentación basada en proximidad geográfica.\n",
    "\n",
    "---\n",
    "\n",
    "#### **Criterio de cálculo**:\n",
    "Para calcular estos valores correctamente:\n",
    "- Se seleccionan los valores registrados en los campos `home_location_lat` y `home_location_long` para cada cliente.\n",
    "- Los valores se actualizan en la tabla de segmentación.\n",
    "- Si el cliente no tiene un valor registrado para la latitud o longitud, se deja en `NULL`.\n"
   ]
  },
  {
   "cell_type": "code",
   "execution_count": 29,
   "id": "3efe543e-8633-4afd-a209-bdfb5ce33cae",
   "metadata": {},
   "outputs": [
    {
     "name": "stdout",
     "output_type": "stream",
     "text": [
      "Ejecutando actualización para 'home_location_lat' y 'home_location_long'...\n",
      "✅ Columnas 'home_location_lat' y 'home_location_long' agregadas correctamente.\n",
      "CPU times: total: 0 ns\n",
      "Wall time: 1min 10s\n"
     ]
    }
   ],
   "source": [
    "%%time\n",
    "# SQL para agregar las columnas home_location_lat y home_location_long en la tabla global\n",
    "sql = \"\"\"\n",
    "ALTER TABLE customer_segmentation_features\n",
    "    ADD COLUMN home_location_lat FLOAT,\n",
    "    ADD COLUMN home_location_long FLOAT;\n",
    "\n",
    "UPDATE customer_segmentation_features cs\n",
    "SET \n",
    "    home_location_lat = sub.home_location_lat,\n",
    "    home_location_long = sub.home_location_long\n",
    "FROM (\n",
    "    SELECT DISTINCT ON (customer_id)\n",
    "        customer_id,\n",
    "        home_location_lat,\n",
    "        home_location_long\n",
    "    FROM cleaned_base_table\n",
    "    WHERE customer_id IS NOT NULL \n",
    "    ORDER BY customer_id\n",
    ") sub\n",
    "WHERE cs.customer_id = sub.customer_id;\n",
    "\"\"\"\n",
    "\n",
    "# Ejecutar el SQL en la base de datos\n",
    "with engine.connect() as connection:\n",
    "    print(\"Ejecutando actualización para 'home_location_lat' y 'home_location_long'...\")\n",
    "    connection.execute(text(sql))\n",
    "    connection.commit()\n",
    "    print(\"✅ Columnas 'home_location_lat' y 'home_location_long' agregadas correctamente.\")\n"
   ]
  },
  {
   "cell_type": "markdown",
   "id": "89a48449-74d4-4a5c-b32b-ebf197d2059a",
   "metadata": {},
   "source": [
    "### **Variable 20: customer_gender**\n",
    "Esta variable representa el **género del cliente**. Nos permite segmentar a los clientes en grupos demográficos y analizar comportamientos diferenciados por género.\n",
    "\n",
    "---\n",
    "\n",
    "#### **Criterio de cálculo**:\n",
    "Para calcular este valor correctamente:\n",
    "- Se selecciona el valor registrado en el campo `customer_gender` para cada cliente.\n",
    "- El valor se actualiza en la tabla de segmentación.\n",
    "- Si el cliente no tiene un valor registrado para género, se deja en `NULL`.\n"
   ]
  },
  {
   "cell_type": "code",
   "execution_count": 30,
   "id": "c676fc13-bddf-48e4-9e1d-202eac06b9d7",
   "metadata": {},
   "outputs": [
    {
     "name": "stdout",
     "output_type": "stream",
     "text": [
      "Ejecutando actualización para 'customer_gender'...\n",
      "✅ Columna 'customer_gender' agregada correctamente.\n",
      "CPU times: total: 0 ns\n",
      "Wall time: 1min 14s\n"
     ]
    }
   ],
   "source": [
    "%%time\n",
    "# SQL para agregar la columna customer_gender en la tabla global\n",
    "sql = \"\"\"\n",
    "ALTER TABLE customer_segmentation_features\n",
    "    ADD COLUMN customer_gender VARCHAR;\n",
    "\n",
    "UPDATE customer_segmentation_features cs\n",
    "SET customer_gender = sub.customer_gender\n",
    "FROM (\n",
    "    SELECT DISTINCT ON (customer_id)\n",
    "        customer_id,\n",
    "        customer_gender\n",
    "    FROM cleaned_base_table\n",
    "    WHERE customer_id IS NOT NULL AND customer_gender IS NOT NULL\n",
    "    ORDER BY customer_id\n",
    ") sub\n",
    "WHERE cs.customer_id = sub.customer_id;\n",
    "\"\"\"\n",
    "\n",
    "# Ejecutar el SQL en la base de datos\n",
    "with engine.connect() as connection:\n",
    "    print(\"Ejecutando actualización para 'customer_gender'...\")\n",
    "    connection.execute(text(sql))\n",
    "    connection.commit()\n",
    "    print(\"✅ Columna 'customer_gender' agregada correctamente.\")\n"
   ]
  },
  {
   "cell_type": "markdown",
   "id": "ceb4717f-82d3-4e82-82e8-bdee44ac6d1d",
   "metadata": {},
   "source": [
    "### **Variable 21: age**\n",
    "Esta variable representa la **edad actual del cliente**. Nos permite realizar segmentaciones etarias y entender la composición demográfica de los clientes.\n",
    "\n",
    "---\n",
    "\n",
    "#### **Criterio de cálculo**:\n",
    "Para calcular este valor correctamente:\n",
    "- Se resta la fecha de nacimiento (`birth_date`) de la fecha actual (`CURRENT_DATE`).\n",
    "- El resultado se expresa en años completos.\n",
    "- Si el cliente no tiene fecha de nacimiento registrada, se deja en `NULL`.\n"
   ]
  },
  {
   "cell_type": "code",
   "execution_count": 31,
   "id": "1e6401fd-877e-41f5-95d3-67162d37edab",
   "metadata": {},
   "outputs": [
    {
     "name": "stdout",
     "output_type": "stream",
     "text": [
      "Ejecutando actualización para 'age'...\n",
      "✅ Columna 'age' agregada correctamente.\n",
      "CPU times: total: 15.6 ms\n",
      "Wall time: 1min 13s\n"
     ]
    }
   ],
   "source": [
    "%%time\n",
    "# SQL para agregar la columna age en la tabla global\n",
    "sql = \"\"\"\n",
    "ALTER TABLE customer_segmentation_features\n",
    "    ADD COLUMN age INT;\n",
    "\n",
    "UPDATE customer_segmentation_features cs\n",
    "SET age = sub.customer_age\n",
    "FROM (\n",
    "    SELECT DISTINCT ON (customer_id)\n",
    "        customer_id,\n",
    "        DATE_PART('year', AGE(CURRENT_DATE, birthdate::DATE)) AS customer_age\n",
    "    FROM cleaned_base_table\n",
    "    WHERE customer_id IS NOT NULL AND birthdate IS NOT NULL\n",
    "    ORDER BY customer_id\n",
    ") sub\n",
    "WHERE cs.customer_id = sub.customer_id;\n",
    "\"\"\"\n",
    "\n",
    "# Ejecutar el SQL en la base de datos\n",
    "with engine.connect() as connection:\n",
    "    print(\"Ejecutando actualización para 'age'...\")\n",
    "    connection.execute(text(sql))\n",
    "    connection.commit()\n",
    "    print(\"✅ Columna 'age' agregada correctamente.\")\n"
   ]
  },
  {
   "cell_type": "markdown",
   "id": "aeb24c0f-0148-43c3-addf-938899cc77de",
   "metadata": {},
   "source": [
    "# Preparación de Variables para Análisis\n",
    "\n",
    "En este notebook hemos consolidado una tabla que contiene las variables necesarias para llevar a cabo el análisis posterior. Para ello, hemos realizado los cálculos oportunos en aquellas variables que requerían transformaciones o ajustes, garantizando así la calidad y consistencia de los datos.\n",
    "\n",
    "Esta tabla servirá como base para el análisis de las variables en el próximo notebook, donde exploraremos en detalle la distribución y la relevancia de cada variable en el contexto del modelo de clustering.\n",
    "\n",
    "Continuemos con el análisis en el siguiente notebook, donde profundizaremos en la interpretación de las variables seleccionadas.\n"
   ]
  },
  {
   "cell_type": "code",
   "execution_count": null,
   "id": "82a7cb82-03f4-4f70-b290-9ecbd6ef12cf",
   "metadata": {},
   "outputs": [],
   "source": []
  }
 ],
 "metadata": {
  "kernelspec": {
   "display_name": "Python 3 (ipykernel)",
   "language": "python",
   "name": "python3"
  },
  "language_info": {
   "codemirror_mode": {
    "name": "ipython",
    "version": 3
   },
   "file_extension": ".py",
   "mimetype": "text/x-python",
   "name": "python",
   "nbconvert_exporter": "python",
   "pygments_lexer": "ipython3",
   "version": "3.12.2"
  }
 },
 "nbformat": 4,
 "nbformat_minor": 5
}
